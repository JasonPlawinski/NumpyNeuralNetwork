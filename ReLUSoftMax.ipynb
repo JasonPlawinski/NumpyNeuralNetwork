{
 "cells": [
  {
   "cell_type": "markdown",
   "metadata": {},
   "source": [
    "# Basic multi-layer perceptron for classifying MNIST"
   ]
  },
  {
   "cell_type": "markdown",
   "metadata": {},
   "source": [
    "In this implementation I changed a few things from the network. I \n",
    "added ReLU and SoftMax activation (and a cross entropy loss) to respectively hidden and last layers. I also added L2 Regularization and Dropout.\n",
    "More recently, I migrated the code from python 2 to python 3"
   ]
  },
  {
   "cell_type": "markdown",
   "metadata": {},
   "source": [
    "This code was what lead to the implementation of the GAN with numpy exclusively"
   ]
  },
  {
   "cell_type": "code",
   "execution_count": 34,
   "metadata": {},
   "outputs": [],
   "source": [
    "import random\n",
    "import numpy as np\n",
    "import pickle\n",
    "import gzip\n",
    "import matplotlib.pyplot as plt\n",
    "plt.rcParams['figure.figsize'] = [10, 5]"
   ]
  },
  {
   "cell_type": "markdown",
   "metadata": {},
   "source": [
    "## Data loader"
   ]
  },
  {
   "cell_type": "code",
   "execution_count": 2,
   "metadata": {},
   "outputs": [],
   "source": [
    "#Data loader and wrapper by \"mnielsen\" https://github.com/mnielsen/neural-networks-and-deep-learning\n",
    "def load_data():\n",
    "    '''Loading the mnist dataset from an archive'''\n",
    "    f = gzip.open('./mnist.pkl.gz', 'rb')\n",
    "    training_data, validation_data, test_data = pickle.load(f, encoding='latin1')\n",
    "    f.close()\n",
    "    return (training_data, validation_data, test_data)\n",
    "\n",
    "def load_data_wrapper():\n",
    "    '''Reshaping the data in a tuple with on one hand the greyscale image and on the other the the label (between 0-9)'''\n",
    "    tr_d, va_d, te_d = load_data()\n",
    "    \n",
    "    #Organizing the training set\n",
    "    training_inputs = [np.reshape(x, (784, 1)) for x in tr_d[0]]\n",
    "    training_results = [vectorized_result(y) for y in tr_d[1]]\n",
    "    training_data = list(zip(training_inputs, training_results))\n",
    "    \n",
    "    #Organizing the validation set\n",
    "    validation_inputs = [np.reshape(x, (784, 1)) for x in va_d[0]]\n",
    "    validation_data = list(zip(validation_inputs, va_d[1]))\n",
    "    \n",
    "    #Organizing the testing set \n",
    "    test_inputs = [np.reshape(x, (784, 1)) for x in te_d[0]]\n",
    "    test_data = list(zip(test_inputs, te_d[1]))\n",
    "    return (training_data, validation_data, test_data)\n",
    "\n",
    "def vectorized_result(j):\n",
    "    '''Vectorizing the output with 1 at the true label and zeroes everywhere else'''\n",
    "    e = np.zeros((10, 1))\n",
    "    e[j] = 1.0\n",
    "    return e"
   ]
  },
  {
   "cell_type": "code",
   "execution_count": 3,
   "metadata": {},
   "outputs": [],
   "source": [
    "#Loading data\n",
    "training_data, validation_data, test_data = load_data_wrapper()"
   ]
  },
  {
   "cell_type": "markdown",
   "metadata": {},
   "source": [
    "## Implementation of the Network"
   ]
  },
  {
   "cell_type": "code",
   "execution_count": 20,
   "metadata": {},
   "outputs": [],
   "source": [
    "#Network inspired by \"mnielsen\" https://github.com/mnielsen/neural-networks-and-deep-learning\n",
    "#In this implementation I changed a few things from the network\n",
    "#Added ReLU and SoftMax activation to respectively hidden and last layers\n",
    "#Added L2 Regularization and Dropout\n",
    "#Migrated the code from python 2 to python 3\n",
    "class Network(object):\n",
    "    def __init__(self, sizes,p=0.5):\n",
    "        '''For initialization, sizes is the list of sizes of the layers [input h1 h2 h3 ... hn]\n",
    "        the output is always be 10 and should not be specified\n",
    "        p is dropout rate'''\n",
    "        #Initialization \n",
    "        #picking a random seed\n",
    "        np.random.seed(0)\n",
    "        #avoiding conditionning error in adagrad\n",
    "        self.eps = np.finfo(np.float).eps\n",
    "        #storing hyper parameters as attributes\n",
    "        self.num_layers = len(sizes)\n",
    "        self.sizes = sizes\n",
    "        self.p = p\n",
    "        \n",
    "        self.dropOut = [np.random.binomial(1, p, size = y) for y in self.sizes[1:]]\n",
    "        \n",
    "        #Initializing weights with low variance gaussians\n",
    "        #Initializing biases with 0\n",
    "        self.biases = [np.zeros([y, 1]) for y in sizes[1:]]\n",
    "        self.weights = [np.random.randn(y, x)/5.0\n",
    "                        for x, y in list(zip(sizes[:-1], sizes[1:]))]\n",
    "\n",
    "        #Initialization of the softmax layer\n",
    "        self.weightsSoftMax = np.random.randn(10, sizes[-1])/5.0\n",
    "        self.biasSoftMax = np.zeros([10,1])\n",
    "        \n",
    "        #Initialization of loss lists for plotting\n",
    "        self.test_lost=[]\n",
    "        self.test_accuracy=[]\n",
    "    \n",
    "    def feedforward(self, a):\n",
    "        '''This function computes the forward pass with dropout'''\n",
    "        for b, w, dp in list(zip(self.biases, self.weights, self.dropOut)):\n",
    "            #ReLU activation\n",
    "            a = ReLU(np.dot(w, a)+b)\n",
    "        #last layer has a softmax activation\n",
    "        a = softmax(np.dot(self.weightsSoftMax,a)+self.biasSoftMax)\n",
    "        return a \n",
    "    \n",
    "    def feedforwardNoDrop(self, a):\n",
    "        '''This function can be used to compute the forward pass with dropout. Since this function does not\n",
    "        store intermediate states, it is not used in practice'''\n",
    "        index=0\n",
    "        for b, w in list(zip(self.biases, self.weights)):\n",
    "            if index == 0:\n",
    "                a = ReLU(np.dot(w, a)+b)\n",
    "                index =1\n",
    "            else:\n",
    "                a = ReLU((np.dot(w, a)+ b) )*(self.p)\n",
    "        a = softmax(np.dot(self.weightsSoftMax,a)+self.biasSoftMax)\n",
    "        return a \n",
    "    \n",
    "       \n",
    "    def SGD(self, training_data, epochs, mini_batch_size, eta, regularization,\n",
    "            test_data=None):\n",
    "        '''Contains the loops over epoch and mini-batches and starts up the Stochastic Gradient Descent Algorithm\n",
    "        No updtae is computed here though'''\n",
    "        if test_data: \n",
    "            n_test = len(test_data)\n",
    "        n = len(training_data)\n",
    "        for j in range(epochs):\n",
    "            random.shuffle(training_data)\n",
    "            mini_batches = [\n",
    "                training_data[k:k+mini_batch_size]\n",
    "                for k in range(0, n, mini_batch_size)]\n",
    "            for mini_batch in mini_batches:\n",
    "                #New dropout layer for each mini_batch\n",
    "                self.dropOut = [np.array((np.random.rand(y, 1)<self.p),np.float) for y in self.sizes[1:]]\n",
    "                self.update_mini_batch(mini_batch, eta, regularization)\n",
    "            if test_data:\n",
    "                print(\"Epoch {0}: {1} / {2}\".format(j, self.evaluate(test_data), n_test))\n",
    "            else:\n",
    "                print(\"Epoch {0} complete\".format(j))\n",
    "\n",
    "    def update_mini_batch(self, mini_batch, eta, regularization):\n",
    "        '''The updates to weights and biases are done here, the update is done using the basic SGD algorithm'''\n",
    "        #storing updates for weights and bias that have a ReLU activation\n",
    "        nabla_b = [np.zeros(b.shape) for b in self.biases]\n",
    "        nabla_w = [np.zeros(w.shape) for w in self.weights]\n",
    "        #storage for weights and biases that correspond to softmax layer\n",
    "        nabla_b_SM = np.zeros_like(self.biasSoftMax)\n",
    "        nabla_w_SM = np.zeros_like(self.weightsSoftMax)\n",
    "        for x, y in mini_batch:\n",
    "            #backprop for element in the mini_batch\n",
    "            delta_nabla_b, delta_nabla_w, delta_b_SM, delta_w_SM = self.backprop(x, y)\n",
    "            #incrementing the lists with updates\n",
    "            nabla_b = [nb+dnb for nb, dnb in list(zip(nabla_b, delta_nabla_b))]\n",
    "            nabla_w = [nw+dnw for nw, dnw in list(zip(nabla_w, delta_nabla_w))]\n",
    "            nabla_b_SM = nabla_b_SM + delta_b_SM\n",
    "            nabla_w_SM = nabla_w_SM + delta_w_SM\n",
    "        \n",
    "        #updating the weights and biaises of ReLU layers\n",
    "        #the value of the update is average over all the elements of the mini_batch\n",
    "        #addition of a regularization term\n",
    "        self.weights = [w*(1-regularization*eta/len(w))-(eta/len(mini_batch))*nw \n",
    "                        for w, nw in list(zip(self.weights, nabla_w))]\n",
    "        self.biases = [b-(eta/len(mini_batch))*nb\n",
    "                       for b, nb in list(zip(self.biases, nabla_b))]\n",
    "        \n",
    "        #updating the weights and biaises of the softmax layer\n",
    "        self.weightsSoftMax = self.weightsSoftMax*(1-eta*regularization/len(nabla_w)) - (eta/len(mini_batch))*nabla_w_SM \n",
    "        self.biasSoftMax -= (eta/len(mini_batch))*nabla_b_SM\n",
    "\n",
    "    def backprop(self, x, y):\n",
    "        '''This function computes the backpropagation to obtain gradients necessery to update the weights'''\n",
    "        #intializing updates\n",
    "        nabla_b = [np.zeros(b.shape) for b in self.biases]\n",
    "        nabla_w = [np.zeros(w.shape) for w in self.weights]\n",
    "        nabla_bSM = np.zeros_like(self.biasSoftMax)\n",
    "        nabla_wSM = np.zeros_like(self.weightsSoftMax)\n",
    "        \n",
    "        #FORWARD PASS\n",
    "        activation = x\n",
    "        activations = [x] # list to store all the activations, layer by layer\n",
    "        zs=[]\n",
    "        index=0\n",
    "        for b, w in list(zip(self.biases, self.weights)):\n",
    "            #loop over ReLU lauyers\n",
    "            #storing the z vector (output of layers before activation)\n",
    "            z = (np.dot(w, activation)+b)\n",
    "            zs.append(z)\n",
    "            #storing activations as well\n",
    "            #applying dropout to the activation of hidden layers\n",
    "            activation = ReLU(z)*self.dropOut[index]\n",
    "            activations.append(activation)\n",
    "            index += 1\n",
    "        \n",
    "        #Storing z and activation for the softmax layer as well\n",
    "        z = (np.dot(self.weightsSoftMax, activation)+self.biasSoftMax)\n",
    "        zs.append(z)\n",
    "        activation = softmax(z)\n",
    "        activations.append(activation)\n",
    "        \n",
    "        #BACKWARD PASS\n",
    "        #derivative of the loss fuction and the backpropagate the error through layers\n",
    "        #dL/do = o - y\n",
    "        delta = self.cost_derivative(activations[-1],y)\n",
    "        #updates for the softmax layer\n",
    "        nabla_bSM = delta\n",
    "        nabla_wSM = np.dot(delta, activations[-2].transpose())\n",
    "        #k-1 layer\n",
    "        delta = np.dot(self.weightsSoftMax.transpose(), delta) * ReLU_prime(zs[-2])* self.dropOut[-1]\n",
    "        nabla_b[-1] = delta\n",
    "        nabla_w[-1] = np.dot(delta, activations[-3].transpose())\n",
    "        for l in range(2, self.num_layers):\n",
    "            #k-l layer\n",
    "            delta = np.dot(self.weights[-l+1].transpose(), delta) * ReLU_prime(zs[-l-1])* self.dropOut[-l]\n",
    "            nabla_b[-l] = delta\n",
    "            nabla_w[-l] = np.dot(delta, activations[-l-2].transpose())\n",
    "        #return the updates for the weights and biases\n",
    "        return (nabla_b, nabla_w, nabla_bSM, nabla_wSM)\n",
    "\n",
    "    def evaluate(self, test_data):\n",
    "        ''''Evaluation of the network while shutting down dropout''''\n",
    "        test_results = [(np.argmax(self.feedforwardNoDrop(x)), y)\n",
    "                        for (x, y) in test_data]\n",
    "        self.test_accuracy.append(sum(int(x == y) for (x, y) in test_results))\n",
    "        return sum(int(x == y) for (x, y) in test_results)\n",
    "\n",
    "    def cost_derivative(self, output_activations, y):\n",
    "        ''''derivative of the cross entropy loss when using a softmax layer'''\n",
    "        return (output_activations - y)\n",
    "    \n",
    "#### Miscellaneous functions\n",
    "def ReLU(z):\n",
    "    '''ReLU activation fuction, x for x>0 and 0 if x <= 0'''\n",
    "    a= np.copy(z)\n",
    "    a[z<=0] = 0\n",
    "    return a\n",
    "\n",
    "def ReLU_prime(z):\n",
    "    '''Derivative of ReLU activation fuction, 1 for x>0 and 0 if x <= 0'''\n",
    "    a= np.zeros_like(z)\n",
    "    a[z>0] = 1\n",
    "    return a\n",
    "\n",
    "def softmax(x):\n",
    "    '''Computes softmax to get the output as a probability measure\n",
    "    No need to create a softmax_prime because by using a cross entropy loss, the derivative of the layer is just\n",
    "    the difference between true labels and computed labels'''\n",
    "    exps = np.exp(x - x.max())\n",
    "    return exps / np.sum(exps)"
   ]
  },
  {
   "cell_type": "markdown",
   "metadata": {},
   "source": [
    "## Test various regularization methods"
   ]
  },
  {
   "cell_type": "code",
   "execution_count": 30,
   "metadata": {
    "scrolled": false
   },
   "outputs": [
    {
     "name": "stdout",
     "output_type": "stream",
     "text": [
      "Epoch 0: 9237 / 10000\n",
      "Epoch 1: 9326 / 10000\n",
      "Epoch 2: 9453 / 10000\n",
      "Epoch 3: 9495 / 10000\n",
      "Epoch 4: 9522 / 10000\n",
      "Epoch 5: 9531 / 10000\n",
      "Epoch 6: 9506 / 10000\n",
      "Epoch 7: 9573 / 10000\n",
      "Epoch 8: 9542 / 10000\n",
      "Epoch 9: 9572 / 10000\n",
      "Epoch 10: 9574 / 10000\n",
      "Epoch 11: 9584 / 10000\n",
      "Epoch 12: 9596 / 10000\n",
      "Epoch 13: 9611 / 10000\n",
      "Epoch 14: 9602 / 10000\n",
      "Epoch 15: 9626 / 10000\n",
      "Epoch 16: 9624 / 10000\n",
      "Epoch 17: 9588 / 10000\n",
      "Epoch 18: 9586 / 10000\n",
      "Epoch 19: 9624 / 10000\n"
     ]
    }
   ],
   "source": [
    "#Test with dropout, droping 30% of the connections\n",
    "\n",
    "#Network parameters are sizes of [Input, hiddenlayer1, hiddenlayer2], p is dropout rate (of not dropped connections)\n",
    "Net=Network([784,50,30],p=0.7)\n",
    "#Training parameters are \n",
    "#1st argument is training dataset\n",
    "#2nd argument is number of epochs\n",
    "#3rd argument is mini batch size\n",
    "#4th argument is learning rate\n",
    "#5th argument is strength of L2 regularization (0 here since we are only testing dropout)\n",
    "#6th argument is optional and is testing dataset, if none it will print training loss\n",
    "Net.SGD(training_data,20,10,0.1,0.0,test_data=test_data)"
   ]
  },
  {
   "cell_type": "code",
   "execution_count": 31,
   "metadata": {},
   "outputs": [
    {
     "name": "stdout",
     "output_type": "stream",
     "text": [
      "Epoch 0: 9404 / 10000\n",
      "Epoch 1: 9508 / 10000\n",
      "Epoch 2: 9443 / 10000\n",
      "Epoch 3: 9475 / 10000\n",
      "Epoch 4: 9593 / 10000\n",
      "Epoch 5: 9628 / 10000\n",
      "Epoch 6: 9470 / 10000\n",
      "Epoch 7: 9543 / 10000\n",
      "Epoch 8: 9505 / 10000\n",
      "Epoch 9: 9612 / 10000\n",
      "Epoch 10: 9609 / 10000\n",
      "Epoch 11: 9602 / 10000\n",
      "Epoch 12: 9627 / 10000\n",
      "Epoch 13: 9692 / 10000\n",
      "Epoch 14: 9702 / 10000\n",
      "Epoch 15: 9687 / 10000\n",
      "Epoch 16: 9605 / 10000\n",
      "Epoch 17: 9691 / 10000\n",
      "Epoch 18: 9627 / 10000\n",
      "Epoch 19: 9654 / 10000\n"
     ]
    }
   ],
   "source": [
    "#Test with L2 regularization (lambda = 0.05)\n",
    "\n",
    "#Network parameters are sizes of [Input, hiddenlayer1, hiddenlayer2], p is dropout rate (here no dropout)\n",
    "Net2=Network([784,50,30],p=1)\n",
    "#Training parameters are \n",
    "#1st argument is training dataset\n",
    "#2nd argument is number of epochs\n",
    "#3rd argument is mini batch size\n",
    "#4th argument is learning rate\n",
    "#5th argument is strength of L2 regularization (0.05 here)\n",
    "#6th argument is optional and is testing dataset, if none it will print training loss\n",
    "Net2.SGD(training_data,20,10,0.1,0.05,test_data=test_data)"
   ]
  },
  {
   "cell_type": "code",
   "execution_count": 32,
   "metadata": {},
   "outputs": [
    {
     "name": "stdout",
     "output_type": "stream",
     "text": [
      "Epoch 0: 9379 / 10000\n",
      "Epoch 1: 9544 / 10000\n",
      "Epoch 2: 9574 / 10000\n",
      "Epoch 3: 9577 / 10000\n",
      "Epoch 4: 9659 / 10000\n",
      "Epoch 5: 9636 / 10000\n",
      "Epoch 6: 9683 / 10000\n",
      "Epoch 7: 9679 / 10000\n",
      "Epoch 8: 9619 / 10000\n",
      "Epoch 9: 9638 / 10000\n",
      "Epoch 10: 9640 / 10000\n",
      "Epoch 11: 9634 / 10000\n",
      "Epoch 12: 9640 / 10000\n",
      "Epoch 13: 9661 / 10000\n",
      "Epoch 14: 9641 / 10000\n",
      "Epoch 15: 9541 / 10000\n",
      "Epoch 16: 9683 / 10000\n",
      "Epoch 17: 9684 / 10000\n",
      "Epoch 18: 9667 / 10000\n",
      "Epoch 19: 9638 / 10000\n"
     ]
    }
   ],
   "source": [
    "#Test with no regularization\n",
    "\n",
    "#Network parameters are sizes of [Input, hiddenlayer1, hiddenlayer2], p is dropout rate (here no dropout)\n",
    "Net3=Network([784,50,30],p=1)\n",
    "#Training parameters are \n",
    "#1st argument is training dataset\n",
    "#2nd argument is number of epochs\n",
    "#3rd argument is mini batch size\n",
    "#4th argument is learning rate\n",
    "#5th argument is strength of L2 regularization (0 here because we are training with no regularization what so ever)\n",
    "#6th argument is optional and is testing dataset, if none it will print training loss\n",
    "Net3.SGD(training_data,20,10,0.1,0.0,test_data=test_data)"
   ]
  },
  {
   "cell_type": "code",
   "execution_count": 35,
   "metadata": {},
   "outputs": [
    {
     "data": {
      "image/png": "[encoded data removed]",
      "text/plain": [
       "<Figure size 720x360 with 1 Axes>"
      ]
     },
     "metadata": {},
     "output_type": "display_data"
    }
   ],
   "source": [
    "plt.plot(np.array(Net.test_accuracy)*(1/100.0),'o-',label='Dropout rate (p=0.3)')\n",
    "plt.plot(np.array(Net2.test_accuracy)*(1/100.0),'o-',label='L2 Regularization')\n",
    "plt.plot(np.array(Net3.test_accuracy)*(1/100.0),'o-',label='Vanilla')\n",
    "\n",
    "plt.xlabel('Epoch')\n",
    "plt.ylabel('Accuracy % on test set')\n",
    "plt.legend()\n",
    "plt.savefig('regularization.png',dpi=300)\n",
    "plt.show()"
   ]
  },
  {
   "cell_type": "code",
   "execution_count": null,
   "metadata": {
    "collapsed": true
   },
   "outputs": [],
   "source": []
  }
 ],
 "metadata": {
  "kernelspec": {
   "display_name": "Python 3",
   "language": "python",
   "name": "python3"
  },
  "language_info": {
   "codemirror_mode": {
    "name": "ipython",
    "version": 3
   },
   "file_extension": ".py",
   "mimetype": "text/x-python",
   "name": "python",
   "nbconvert_exporter": "python",
   "pygments_lexer": "ipython3",
   "version": "3.6.5"
  }
 },
 "nbformat": 4,
 "nbformat_minor": 2
}
